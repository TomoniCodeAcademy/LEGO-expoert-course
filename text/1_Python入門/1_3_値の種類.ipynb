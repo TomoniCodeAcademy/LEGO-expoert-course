{
  "nbformat": 4,
  "nbformat_minor": 0,
  "metadata": {
    "colab": {
      "provenance": [],
      "toc_visible": true
    },
    "kernelspec": {
      "name": "python3",
      "display_name": "Python 3"
    },
    "language_info": {
      "name": "python"
    }
  },
  "cells": [
    {
      "cell_type": "markdown",
      "source": [
        "# Pythonにおける値の種類(型)について"
      ],
      "metadata": {
        "id": "szss8sPUR0YN"
      }
    },
    {
      "cell_type": "markdown",
      "source": [
        "Pythonではいろんな値を扱うことができます。ここでは値の種類を説明します。値の種類の話はややこしいのですが、値の種類を正しく扱わないとエラーになるので、聞いてください。\n",
        "\n",
        "Pythonにおいてどのような値を扱えるか、その種類が決められています。値を分類分けしたものを値の型（Type タイプ）と呼びます。\n"
      ],
      "metadata": {
        "id": "RoNMrPgzdHTf"
      }
    },
    {
      "cell_type": "markdown",
      "source": [
        "皆さんは気にしていなかったかもしれませんが、ブロックプログラミングのブロックにおいて、数字しか入れられないブロックと、文字と数字の両方が入れられるブロックがありました。以下に例を示します。スピードを指定するブロックでは数字だけ入れることができ、文字を入れるとエラーになります。一方、表示するブロックの場合、数字以外に文字を入れてもエラーにはなりません。<br>\n",
        "<img src=\"https://github.com/TomoniCodeAcademy/LEGO-expoert-course/blob/main/img/document_parts/number_string_in_block.png?raw=true\" width=350>"
      ],
      "metadata": {
        "id": "CKPUZ5msb3ow"
      }
    },
    {
      "cell_type": "markdown",
      "source": [
        "プログラミングにおいて、1や100等の数字を扱っているのか、　hello   山田   Tokyo  などの文字を扱っているのか、よく考えてプログラムしましょう。まず数字から説明します。"
      ],
      "metadata": {
        "id": "xlIdubgocrgp"
      }
    },
    {
      "cell_type": "markdown",
      "source": [
        "Pythonでは数字を扱うことができます。例えば以下は数字です。"
      ],
      "metadata": {
        "id": "u--o3iBXdHS_"
      }
    },
    {
      "cell_type": "code",
      "source": [
        "1\n",
        "100\n",
        "-10\n",
        "0\n",
        "1.23456"
      ],
      "metadata": {
        "id": "S-uQTTNccoqx"
      },
      "execution_count": null,
      "outputs": []
    },
    {
      "cell_type": "markdown",
      "source": [
        "皆さんが算数の時間に足したり引いたりしている値が数字です。Pythonでも数字を使って掛け算や割り算ができます。"
      ],
      "metadata": {
        "id": "5xooFKOWdMJY"
      }
    },
    {
      "cell_type": "code",
      "source": [
        "1+2\n",
        "0.999999 + 0.000001"
      ],
      "metadata": {
        "id": "tObP1j1PdXvD"
      },
      "execution_count": null,
      "outputs": []
    },
    {
      "cell_type": "markdown",
      "source": [
        "Pythonでは数字以外に文字を扱うことができます。正確には文字列と言います。文字列とは、以下のように、文字がつながったものです。\n",
        "\n",
        "\"昨日学校に行ったら誰も居ませんでした。日曜日でした。\"\n",
        "\n",
        "文章や人の名前等を表す時に文字列を使います。文字列は、文字をシングルクオートか、ダブルクオートで囲むことで作ることができます。"
      ],
      "metadata": {
        "id": "B_yN9dMEcsfB"
      }
    },
    {
      "cell_type": "code",
      "source": [
        "'これは文字列です。シングルクオートで囲んでいます'\n",
        "\"これも文字列です。ダブルクオートで囲んでいます\""
      ],
      "metadata": {
        "id": "8hzb003KdpX6"
      },
      "execution_count": null,
      "outputs": []
    },
    {
      "cell_type": "markdown",
      "source": [
        "文字列も演算することができます。２つの文字列を+ でつなぐと、２つの文字列が連結されます。"
      ],
      "metadata": {
        "id": "Q52lg1fcdFxp"
      }
    },
    {
      "cell_type": "code",
      "source": [
        "'昨日' + '学校に行ったら' + '先生がお休みでした'"
      ],
      "metadata": {
        "id": "eKOBUVkQd81o"
      },
      "execution_count": null,
      "outputs": []
    },
    {
      "cell_type": "markdown",
      "source": [
        "ここから大事な話なので、よく聞いてください。上に説明した数字、文字列は、正確には、int型(整数型)、str型(文字列型)と呼ばれる型が定義されています。型とは、例えば、動物、植物等の種類分けがあるようなものです。値の種類分けと考えてください。型とは英語でtypeと呼ばれます。型が定義されているおかげで正確な計算が可能になります。\n",
        "\n",
        "例えば、、<br>\n",
        "1 + 2 はいくら？　<br>と聞かれると皆さんは、3 と答えると思います。算数の時間で数字を計算してますよね。Pythonでも、数字と数字を使って同じように値を足してくれます。Pythonでint型とint型を加えると結果もint型で3が得られます。\n",
        "\n",
        "では、<br>\n",
        "'太郎は' + '学校へ行った'<br>　はどうなると思いますか？\n",
        "国語の授業の様ですね。Pythonでは、２つの文字列がくっついて、　<br>'太郎は学校へ行った'<br>となります。str型とstr型の加算した結果はstr型です。\n",
        "\n",
        "では、、<br>\n",
        "'太郎は'  +  3  + '才です' <br>\n",
        "この場合はどうしますか？\n",
        "文字と数字をどうやったら足せると思いますか？ 算数の時間と国語の時間を混ぜるようなものです。Pythonはこのような計算はエラーとして処理を中断して、結果を出しません。\n",
        "\n",
        "数字型と文字列型を足すのは、プログラムを作る人に考えたりない部分があるので、プログラムをみなしてくださいと言ってきます。このようなエラーを起こさないように、変数にはどのような型の値が入っているのかを考えながらプログラミングすることが大切です。\n",
        "\n",
        "簡単に言うと、数字を扱う時は数字だけを計算し、文字列を扱う時は文字列だけを操作するように注意すればOKです。\n",
        "エラーになる<br>\n",
        "'太郎は'  +  3  + '才です'<br>\n",
        "のエラーを解消するには、<br>\n",
        "'太郎は'  +  '3'  + '才です'<br>\n",
        "の様に、文字列型(str型)だけで加算するか、数字を文字列型に変換して加算します。<br>\n",
        "'太郎は' + str(3) + '才です'<br>\n",
        "str()関数は、指定された値を文字列型(str型)に変換する関数です。str()関数を使うことで、文字列型どおしの加算となりエラーが発生しません。\n"
      ],
      "metadata": {
        "id": "sBVCg_APedpc"
      }
    },
    {
      "cell_type": "markdown",
      "source": [
        "値の型が分からない時はtype() 関数を使うと値の型を教えてくれます。"
      ],
      "metadata": {
        "id": "IgHNR52JiXU2"
      }
    },
    {
      "cell_type": "code",
      "source": [
        "type(2)"
      ],
      "metadata": {
        "id": "m4UaHRvzhuwC"
      },
      "execution_count": null,
      "outputs": []
    },
    {
      "cell_type": "code",
      "source": [
        "type('文字列')"
      ],
      "metadata": {
        "id": "bfgwYj9ihxGq"
      },
      "execution_count": null,
      "outputs": []
    },
    {
      "cell_type": "markdown",
      "source": [
        "# **違う型を混ぜるな危険**　と覚えておいてください\n"
      ],
      "metadata": {
        "id": "65m0sQVgkxJx"
      }
    }
  ]
}