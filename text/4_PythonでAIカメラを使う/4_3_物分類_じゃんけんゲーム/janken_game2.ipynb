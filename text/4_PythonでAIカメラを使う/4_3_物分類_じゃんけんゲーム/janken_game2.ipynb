{
  "nbformat": 4,
  "nbformat_minor": 0,
  "metadata": {
    "colab": {
      "provenance": [],
      "toc_visible": true
    },
    "kernelspec": {
      "name": "python3",
      "display_name": "Python 3"
    },
    "language_info": {
      "name": "python"
    }
  },
  "cells": [
    {
      "cell_type": "markdown",
      "source": [
        "# AIカメラを使ったじゃんけんゲーム（２）"
      ],
      "metadata": {
        "id": "pOM2nQ4TlYre"
      }
    },
    {
      "cell_type": "markdown",
      "source": [
        "AIカメラの学習が終了したのでPythonからAIカメラを制御します。まずAIカメラと接続するため以下のコードを書いてください。カメラとの接続はポートFを使ってください。"
      ],
      "metadata": {
        "id": "0Uzh6CO3lg9G"
      }
    },
    {
      "cell_type": "code",
      "source": [
        "import sys\n",
        "import time\n",
        "from hub import port\n",
        "\n",
        "sys.path.append('/projects/mylib000')\n",
        "from huskylens_lib import Algo\n",
        "from huskylens_lib import HuskyLens\n",
        "\n",
        "port.F.mode(port.MODE_FULL_DUPLEX)\n",
        "time.sleep(1)\n",
        "port.F.baud(9600)\n",
        "\n",
        "husky = HuskyLens(port.F)"
      ],
      "metadata": {
        "id": "jmAVyOMzlrzg"
      },
      "execution_count": null,
      "outputs": []
    },
    {
      "cell_type": "markdown",
      "source": [
        "次に「Object Classification（モノの分類）」モードに切り替えるため、以下のコードを書いてください。"
      ],
      "metadata": {
        "id": "NtVciBKmmWEp"
      }
    },
    {
      "cell_type": "code",
      "source": [
        "husky.send_CMD_REQ_ALGO(Algo.OBJECT_CLASSIFICATION)"
      ],
      "metadata": {
        "id": "M-xbK-WlmVsi"
      },
      "execution_count": null,
      "outputs": []
    },
    {
      "cell_type": "markdown",
      "source": [
        "グーチョキパーが正しく識別できているか、以下のプログラムで確認しましょう"
      ],
      "metadata": {
        "id": "SQMhZJOrlhPe"
      }
    },
    {
      "cell_type": "code",
      "source": [
        "while True:\n",
        "    block = husky.read_blocks()\n",
        "    print(block)"
      ],
      "metadata": {
        "id": "QMAxdg4fm3Fv"
      },
      "execution_count": null,
      "outputs": []
    },
    {
      "cell_type": "markdown",
      "source": [
        "背景だけの場合は以下の出力になっていると思います。\n",
        "```\n",
        "[('block', 1, 160, 112, 224, 224)]\n",
        "[('block', 1, 160, 112, 224, 224)]\n",
        "[('block', 1, 160, 112, 224, 224)]\n",
        "[('block', 1, 160, 112, 224, 224)]\n",
        "[('block', 1, 160, 112, 224, 224)]\n",
        "[('block', 1, 160, 112, 224, 224)]\n",
        "[('block', 1, 160, 112, 224, 224)]\n",
        "[('block', 1, 160, 112, 224, 224)]\n",
        "```\n",
        "各リストの中の２番目の値が1になっています。これは背景がID1として識別されたことを表しています。最初に背景を学習させましたのでIDは１で合っています。"
      ],
      "metadata": {
        "id": "7PKpXO51pmio"
      }
    },
    {
      "cell_type": "markdown",
      "source": [
        "次に、じゃんけんを出した時に正しく識別されるかを確認しましょう。グーを出した時は以下の出力になりましたか？。blockの次の数字が2です。ID2としてグーを識別しています。背景の次にグーを学習させましたのでID2で合っています。\n",
        "\n",
        "```\n",
        "[('block', 2, 160, 112, 224, 224)]\n",
        "[('block', 2, 160, 112, 224, 224)]\n",
        "[('block', 2, 160, 112, 224, 224)]\n",
        "[('block', 2, 160, 112, 224, 224)]\n",
        "```\n",
        "同様に、チョキ、パーも正しく識別されるかを確認しましょう。"
      ],
      "metadata": {
        "id": "35ZuAphhmtL5"
      }
    },
    {
      "cell_type": "markdown",
      "source": [
        "実際にじゃんけんするには、'block'の次の数字(1,2,3)を取り出す必要があります。関数から返却される値は以下の形式になっています。\n",
        "\n",
        "IDを取り出すには以下のプログラムになります。"
      ],
      "metadata": {
        "id": "sAkCYECAqqee"
      }
    },
    {
      "cell_type": "code",
      "source": [
        "aite = block[0][1]"
      ],
      "metadata": {
        "id": "UTlK6SNDq_Fx"
      },
      "execution_count": null,
      "outputs": []
    },
    {
      "cell_type": "markdown",
      "source": [
        "上記の意味は、まず配列の最初の値を取り出し、取り出した値の1番目の値を取り出すという意味です。この操作によりIDの番号が得られます。ついでに、正しくID番号が取り出せているか、以下のコードを書いて確認しましょう"
      ],
      "metadata": {
        "id": "SUh4RCRErHRc"
      }
    },
    {
      "cell_type": "code",
      "source": [
        "while True:\n",
        "    block = husky.read_blocks()\n",
        "    print(block)\n",
        "    te = block[0][1]\n",
        "    if te == 0:\n",
        "        print('不明なモノ')\n",
        "    elif te == 1:\n",
        "        print('背景のみ')\n",
        "    elif te == 2:\n",
        "            print('グー')\n",
        "    elif te == 3:\n",
        "            print('チョキ')\n",
        "    elif te == 4:\n",
        "            print('パー')\n"
      ],
      "metadata": {
        "id": "wpgBy-mbrbWP"
      },
      "execution_count": null,
      "outputs": []
    },
    {
      "cell_type": "markdown",
      "source": [
        "正しく、グー、チョキ、パーが出力されましたか？　　グーを出しているのにパーと表示されたり、ひんぱんに間違う場合は、もう一度学習させてください。"
      ],
      "metadata": {
        "id": "4tfyjdsRshwl"
      }
    },
    {
      "cell_type": "markdown",
      "source": [
        "LEGOとじゃんけん対決するには、LEGO側も、グー、チョキ、パーを出す必要があります。どれを出すか？はLEGOが勝手に決めます。勝手に決める方法として乱数を発生させる関数を使います。Pythonの関数で、random.choice()というものがあり、これは与えられたリストからランダムに一つを取り出します。"
      ],
      "metadata": {
        "id": "VdaJf06zs2R6"
      }
    },
    {
      "cell_type": "code",
      "source": [
        "import time\n",
        "import random\n",
        "while True:\n",
        "    LEGO_te = random.choice(('guu','choki','paa'))\n",
        "    print(LEGO_te)\n",
        "    time.sleep(1)"
      ],
      "metadata": {
        "id": "-S9CrnPltvbc"
      },
      "execution_count": null,
      "outputs": []
    },
    {
      "cell_type": "markdown",
      "source": [
        "time.sleep(1)はループが早すぎて見えないので１秒待ちを入れています。実行すると、以下の様に、LEGO側もじゃんけんをいろんな手を出してきます。\n",
        "```\n",
        "paa\n",
        "choki\n",
        "paa\n",
        "choki\n",
        "choki\n",
        "guu\n",
        "choki\n",
        "choki\n",
        "paa\n",
        "guu\n",
        "choki\n",
        "```"
      ],
      "metadata": {
        "id": "lj9tQDTQuDiB"
      }
    },
    {
      "cell_type": "markdown",
      "source": [
        "ここまでのコードを整理します。全体をまとめると以下となります。"
      ],
      "metadata": {
        "id": "fn3RZw3eus3S"
      }
    },
    {
      "cell_type": "code",
      "source": [
        "import sys\n",
        "import time\n",
        "import random\n",
        "from hub import port\n",
        "\n",
        "sys.path.append('/projects/mylib000')\n",
        "from huskylens_lib import Algo\n",
        "from huskylens_lib import HuskyLens\n",
        "\n",
        "port.F.mode(port.MODE_FULL_DUPLEX)\n",
        "time.sleep(1)\n",
        "port.F.baud(9600)\n",
        "\n",
        "husky = HuskyLens(port.F)\n",
        "husky.send_CMD_REQ_ALGO(Algo.OBJECT_CLASSIFICATION)\n",
        "time.sleep(1)\n",
        "\n",
        "te = None\n",
        "while True:\n",
        "    # get te of LEGO\n",
        "    LEGO_te = random.choice(('guu','choki','paa'))\n",
        "\n",
        "    # get user's te\n",
        "    block = husky.read_blocks()\n",
        "    print(block)\n",
        "    if block and len(block) > 0:\n",
        "        te = block[0][1]\n",
        "    print(te, LEGO_te)\n",
        "    time.sleep(1)"
      ],
      "metadata": {
        "id": "_oGmn2cfqpz1"
      },
      "execution_count": null,
      "outputs": []
    },
    {
      "cell_type": "markdown",
      "source": [
        "上記プログラムを実行すると以下となります。確かに、それぞれが手を出していますが、人の手は1,2,3の数値で、LEGOの手は'guu', 'choki', 'paa'の文字列です。これでは比較ができません。数値による人の手をLEGOの手を同じ文字列にそろえる必要があります。そこで、数値->文字列に変換する関数を作ります。変換関数は以下です。"
      ],
      "metadata": {
        "id": "m-K5r8xixQ1d"
      }
    },
    {
      "cell_type": "code",
      "source": [
        "# convert\n",
        "# hand id to hand string\n",
        "#  1: 'guu' , 2: 'choki' 3: 'paa'\n",
        "def  hand_id2str(id):\n",
        "    if id == 0:\n",
        "        return 'unknown'\n",
        "    elif id == 1:\n",
        "        return 'back'\n",
        "    elif id == 2:\n",
        "        return 'guu'\n",
        "    elif id == 3:\n",
        "        return 'choki'\n",
        "    elif id == 4:\n",
        "        return 'paa'"
      ],
      "metadata": {
        "id": "oSmkV7LEx-ra"
      },
      "execution_count": null,
      "outputs": []
    },
    {
      "cell_type": "markdown",
      "source": [],
      "metadata": {
        "id": "iTIeOB4mxr8x"
      }
    },
    {
      "cell_type": "code",
      "source": [],
      "metadata": {
        "id": "j1on9tEBu8C3"
      },
      "execution_count": null,
      "outputs": []
    },
    {
      "cell_type": "markdown",
      "source": [
        "LEGOが選んだ、guu, choki, paa と人が選んだ guu , choki, paaを毎回表示するプログラムは以下となります"
      ],
      "metadata": {
        "id": "IvBbbeTKzZZn"
      }
    },
    {
      "cell_type": "code",
      "source": [
        "import sys\n",
        "import time\n",
        "import random\n",
        "from hub import port\n",
        "\n",
        "sys.path.append('/projects/mylib000')\n",
        "from huskylens_lib import Algo\n",
        "from huskylens_lib import HuskyLens\n",
        "\n",
        "port.F.mode(port.MODE_FULL_DUPLEX)\n",
        "time.sleep(1)\n",
        "port.F.baud(9600)\n",
        "\n",
        "husky = HuskyLens(port.F)\n",
        "husky.send_CMD_REQ_ALGO(Algo.OBJECT_CLASSIFICATION)\n",
        "time.sleep(1)\n",
        "\n",
        "# convert\n",
        "# hand id to hand string\n",
        "#  1: 'guu' , 2: 'choki' 3: 'paa'\n",
        "def  hand_id2str(id):\n",
        "    if id == 0:\n",
        "        return 'unknown'\n",
        "    elif id == 1:\n",
        "        return 'back'\n",
        "    elif id == 2:\n",
        "        return 'guu'\n",
        "    elif id == 3:\n",
        "        return 'choki'\n",
        "    elif id == 4:\n",
        "        return 'paa'\n",
        "\n",
        "hand_str = None\n",
        "while True:\n",
        "    # get te of LEGO\n",
        "    LEGO_choice = random.choice(('guu','choki','paa'))\n",
        "\n",
        "    # get user's te\n",
        "    block = husky.read_blocks()\n",
        "    print(block)\n",
        "    if block and len(block) > 0:\n",
        "        hand_id = block[0][1]\n",
        "        hand_str = hand_id2str(hand_id)\n",
        "    print(hand_str, LEGO_choice)\n",
        "    time.sleep(1)"
      ],
      "metadata": {
        "id": "i9gZ1_cjy9kV"
      },
      "execution_count": null,
      "outputs": []
    },
    {
      "cell_type": "markdown",
      "source": [
        "上記プログラムの出力例は以下です。\n",
        "```\n",
        "guu paa\n",
        "[('block', 2, 160, 112, 224, 224)]\n",
        "guu paa\n",
        "[('block', 3, 160, 112, 224, 224)]\n",
        "choki choki\n",
        "[('block', 4, 160, 112, 224, 224)]\n",
        "paa choki\n",
        "[('block', 0, 160, 112, 224, 224)]\n",
        "unknown guu\n",
        "[('block', 0, 160, 112, 224, 224)]\n",
        "unknown choki\n",
        "[('block', 0, 160, 112, 224, 224)]\n",
        "unknown guu\n",
        "[('block', 0, 160, 112, 224, 224)]\n",
        "unknown guu\n",
        "```\n",
        "このプログラムで、LEGOのguu,choki,paaと、人の手による guu, choki, paa を並べて出力するところまでできました。\n",
        "このままでは、各じゃんけんで、人が勝ったのか、LEGOが勝ったのか分かりません。そこで、じゃんけんの勝ち負け反転関数を作り、どちらが勝ったのかを表示します。プログラムは以下です。"
      ],
      "metadata": {
        "id": "ZwtuvXZi0AZX"
      }
    },
    {
      "cell_type": "code",
      "source": [
        "#\n",
        "# hand1, hand2 が guu, choki, paa を選択した時、\n",
        "# hand1側が勝ったのか負けたのか引き分けか？を返します\n",
        "#\n",
        "def judge_winner(hand1, hand2):\n",
        "    if hand1 == 'guu':\n",
        "        if hand2 == 'guu':\n",
        "            return 'draw'\n",
        "        elif hand2 == 'choki':\n",
        "            return 'win'\n",
        "        elif hand2 == 'paa':\n",
        "            return 'lose'\n",
        "    elif hand1 == 'choki':\n",
        "        if hand2 == 'guu':\n",
        "            return 'lose'\n",
        "        elif hand2 == 'choki':\n",
        "            return 'draw'\n",
        "        elif hand2 == 'paa':\n",
        "            return 'win'\n",
        "    elif hand1 == 'paa':\n",
        "        if hand2 == 'guu':\n",
        "            return 'win'\n",
        "        elif hand2 == 'choki':\n",
        "            return 'lose'\n",
        "        elif hand2 == 'paa':\n",
        "            return 'draw'\n",
        ""
      ],
      "metadata": {
        "id": "PYkZkEJz0rcu"
      },
      "execution_count": null,
      "outputs": []
    },
    {
      "cell_type": "markdown",
      "source": [
        "先ほどのプログラムに組み込みます"
      ],
      "metadata": {
        "id": "JgUc8wRq1uAK"
      }
    },
    {
      "cell_type": "code",
      "source": [
        "import sys\n",
        "import time\n",
        "import random\n",
        "from hub import port\n",
        "\n",
        "sys.path.append('/projects/mylib000')\n",
        "from huskylens_lib import Algo\n",
        "from huskylens_lib import HuskyLens\n",
        "\n",
        "port.F.mode(port.MODE_FULL_DUPLEX)\n",
        "time.sleep(1)\n",
        "port.F.baud(9600)\n",
        "\n",
        "husky = HuskyLens(port.F)\n",
        "husky.send_CMD_REQ_ALGO(Algo.OBJECT_CLASSIFICATION)\n",
        "time.sleep(1)\n",
        "\n",
        "# convert\n",
        "# hand id to hand string\n",
        "#  1: 'guu' , 2: 'choki' 3: 'paa'\n",
        "def  hand_id2str(id):\n",
        "    if id == 0:\n",
        "        return 'unknown'\n",
        "    elif id == 1:\n",
        "        return 'back'\n",
        "    elif id == 2:\n",
        "        return 'guu'\n",
        "    elif id == 3:\n",
        "        return 'choki'\n",
        "    elif id == 4:\n",
        "        return 'paa'\n",
        "\n",
        "#\n",
        "# hand1, hand2 が guu, choki, paa を選択した時、\n",
        "# hand1側が勝ったのか負けたのか引き分けか？を返します\n",
        "#\n",
        "def judge_winner(hand1, hand2):\n",
        "    if hand1 == 'guu':\n",
        "        if hand2 == 'guu':\n",
        "            return 'draw'\n",
        "        elif hand2 == 'choki':\n",
        "            return 'win'\n",
        "        elif hand2 == 'paa':\n",
        "            return 'lose'\n",
        "    elif hand1 == 'choki':\n",
        "        if hand2 == 'guu':\n",
        "            return 'lose'\n",
        "        elif hand2 == 'choki':\n",
        "            return 'draw'\n",
        "        elif hand2 == 'paa':\n",
        "            return 'win'\n",
        "    elif hand1 == 'paa':\n",
        "        if hand2 == 'guu':\n",
        "            return 'win'\n",
        "        elif hand2 == 'choki':\n",
        "            return 'lose'\n",
        "        elif hand2 == 'paa':\n",
        "            return 'draw'\n",
        "\n",
        "hand_str = None\n",
        "while True:\n",
        "    # get te of LEGO\n",
        "    LEGO_choice = random.choice(('guu','choki','paa'))\n",
        "\n",
        "    # get user's te\n",
        "    block = husky.read_blocks()\n",
        "    print(block)\n",
        "    if block and len(block) > 0:\n",
        "        hand_id = block[0][1]\n",
        "        hand_str = hand_id2str(hand_id)\n",
        "    result = judge_winner(hand_str, LEGO_choice)\n",
        "    print(hand_str, LEGO_choice, 'you are..', result)\n",
        "    time.sleep(1)"
      ],
      "metadata": {
        "id": "8nf9gSvE0Tfw"
      },
      "execution_count": null,
      "outputs": []
    },
    {
      "cell_type": "markdown",
      "source": [
        "上記プログラムを実行すると、以下の出力となります。\n",
        "ずっとグーを出していましたが、LEGO側がランダムにいろんな手を出していて、勝ち負けが正しく判定されていることが分かります。\n",
        "```\n",
        "[('block', 2, 160, 112, 224, 224)]\n",
        "guu guu you are.. draw\n",
        "[('block', 2, 160, 112, 224, 224)]\n",
        "guu choki you are.. win\n",
        "[('block', 2, 160, 112, 224, 224)]\n",
        "guu choki you are.. win\n",
        "[('block', 2, 160, 112, 224, 224)]\n",
        "guu choki you are.. win\n",
        "[('block', 2, 160, 112, 224, 224)]\n",
        "guu paa you are.. lose\n",
        "[('block', 0, 160, 112, 224, 224)]\n",
        "unknown choki you are.. None\n",
        "[('block', 3, 160, 112, 224, 224)]\n",
        "choki choki you are.. draw\n",
        "[('block', 1, 160, 112, 224, 224)］\n",
        "```"
      ],
      "metadata": {
        "id": "WF0nrR-72bfC"
      }
    }
  ]
}