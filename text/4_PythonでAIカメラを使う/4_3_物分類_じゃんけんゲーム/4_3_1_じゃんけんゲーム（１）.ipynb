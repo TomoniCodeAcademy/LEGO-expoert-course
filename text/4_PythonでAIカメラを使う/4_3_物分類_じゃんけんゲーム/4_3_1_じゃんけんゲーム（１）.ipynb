{
  "nbformat": 4,
  "nbformat_minor": 0,
  "metadata": {
    "colab": {
      "provenance": []
    },
    "kernelspec": {
      "name": "python3",
      "display_name": "Python 3"
    },
    "language_info": {
      "name": "python"
    }
  },
  "cells": [
    {
      "cell_type": "markdown",
      "source": [],
      "metadata": {
        "id": "5QF-I4WVoTAY"
      }
    },
    {
      "cell_type": "markdown",
      "source": [
        "# モノ分類機能を使ってじゃんけんゲームをつくろう(1)"
      ],
      "metadata": {
        "id": "Gwyy-8mioVMP"
      }
    },
    {
      "cell_type": "markdown",
      "source": [
        "AIカメラには学習させたモノを分類することができます。AIカメラにじゃんけんの「グー」、「チョキ」、「パー」の形を覚えさせて、LEGOとじゃんけんをしてみよう"
      ],
      "metadata": {
        "id": "AXmx0Ut0ofKR"
      }
    },
    {
      "cell_type": "markdown",
      "source": [
        "実際にどんなことができるかは以下の動画を見てください"
      ],
      "metadata": {
        "id": "lrrdv2pso1re"
      }
    },
    {
      "cell_type": "markdown",
      "source": [
        "## AIカメラを「Object Classification(モノの分類)」に切り替える"
      ],
      "metadata": {
        "id": "gjFV2PnMoWkn"
      }
    },
    {
      "cell_type": "markdown",
      "source": [
        "カメラに映った画像が「グー」、「チョキ」、「パー」のどれかを判断するのに、AIカメラのObject Classification機能（モノの分類機能）を使います。AIカメラの左上のダイアルを一回クリックするとメニューが出ます。ダイアルを左右に回して、「Object Classification(モノの分類)」を選択してください。下記はObject Classification(モノの分類)を選択した画面です。\n",
        "\n",
        "<img src=\"https://github.com/TomoniCodeAcademy/LEGO-expoert-course/blob/main/img/pictures/HuskyLens_ObjectClassification.png?raw=true\" width=400>"
      ],
      "metadata": {
        "id": "-W8h7YQ8pD5Y"
      }
    },
    {
      "cell_type": "markdown",
      "source": [
        "## モノを複数学習できるように切り替える"
      ],
      "metadata": {
        "id": "4kDIOWcm2knG"
      }
    },
    {
      "cell_type": "markdown",
      "source": [
        "自動とびらを作った時は、学習する対象は一人の顔だけでした。今回は、「グー」、「チョキー」、「パー」、３つのモノを覚える必要があります。複数のモノを覚えられるようにAIカメラの設定を変更します（複数学習モードに変更します）。\n",
        "左上のダイアルを下に押してください。一回押すと上のメニューが出ます。上記メニューが出ている状態で、左上のダイアルを長く押してください。すると、以下のように、新しいメニューが出ます。このメニューは、「Object Classification(モノの識別)」に対して、どのように学習させるのかを指定することができます。\n",
        "\n",
        "<img src=\"https://github.com/TomoniCodeAcademy/LEGO-expoert-course/blob/main/img/pictures/HuskyLens_SubMenu_ObjectClassification.png?raw=true\" width=400>\n",
        "\n",
        "複数のモノを学習させたいので、複数学習できるように設定変更します。右側に「Learn Multiple（複数学習）」が出ています。ダイアルを動かして「Learn Multiple」を選択します(分かりやすく赤で囲んでいますが、実際は赤では囲まれていません)。\n",
        "\n",
        "<img src=\"https://github.com/TomoniCodeAcademy/LEGO-expoert-course/blob/main/img/pictures/HuskyLens_Menu_Learn_Multiple.png?raw=true\" width=400>\n",
        "\n",
        "「Learn Multiple(複数学習)」が出ている状態で、左上のダイアルをクリックします。すると、以下のように、複数学習する／しないのトグルスイッチが表示されます。最初は複数学習しないモードですので以下の画面になっていると思います。\n",
        "\n",
        "<img src=\"https://github.com/TomoniCodeAcademy/LEGO-expoert-course/blob/main/img/pictures/HuskyLens_Menu_Learn_Multiple_NO.png?raw=true\" width=400>\n",
        "\n",
        "複数学習しないモードの場合は、上記のように、トグルスイッチが左側に設定されていて、トグルスイッチの色は白色です。このままだと、一種しか学習できないので、ダイアルを右に回して、トグルスイッチを右側に設定します。\n",
        "\n",
        "<img src=\"https://github.com/TomoniCodeAcademy/LEGO-expoert-course/blob/main/img/pictures/HuskyLens_Menu_Learn_Multiple_YES.png?raw=true\" width=400>\n",
        "\n",
        "すると、トグルスイッチの色が青色に変わります。これにより、複数学習するモードに切り替わりました。\n",
        "このままだと設定が反映されないので、設定内容を保存します。トグルスイッチが出ている状態でダイアルを一度クリックすると、先ほどのメニューに戻りますので、「Save & Return (保存して戻る)」が出た状態にします。\n",
        "\n",
        "<img src=\"https://github.com/TomoniCodeAcademy/LEGO-expoert-course/blob/main/img/pictures/HuskyLens_Menu_Save_Return.png?raw=true\" width=400>\n",
        "\n",
        "この状態でダイアルをクリックします。「Do You Save Data? (保存しますか？)」と聞いてくるので、ダイアルを動かして「YES」を選択して、ダイアルをクリックして保存します。\n",
        "\n",
        "<img src=\"https://github.com/TomoniCodeAcademy/LEGO-expoert-course/blob/main/img/pictures/HuskyLens_Menu_save_data_yes.png?raw=true\" width=400>\n",
        "\n",
        "この操作により、複数学習モードに切り替わりましたので、複数のモノを学習することが可能になります。\n"
      ],
      "metadata": {
        "id": "L2bm2db5sQ6I"
      }
    },
    {
      "cell_type": "markdown",
      "source": [
        "## 学習済みかどうかを確認、もし学習済みであれば忘れさせる"
      ],
      "metadata": {
        "id": "wgOD9XAs2IbR"
      }
    },
    {
      "cell_type": "markdown",
      "source": [
        "「Object Classificaion」を使い始める時、以下の画面であればまだ何も学習していない状況です(枠の中のモノに対してIDが付けられていません)。右上のボタンをクリックすると学習を始められます。\n",
        "\n",
        "<img src=\"https://github.com/TomoniCodeAcademy/LEGO-expoert-course/blob/main/img/pictures/HuskyLens_ObjectClassification_not_learned.png?raw=true\" width=400>\n",
        "\n",
        "一方、以下の画面の場合、Object番号が出ており学習済みデータであるか判断しています(一致しないためID0と表示されています)。この場合、すでに何かの画像を学習済です。\n",
        "\n",
        "<img src=\"https://github.com/TomoniCodeAcademy/LEGO-expoert-course/blob/main/img/pictures/HuskyLens_ColorIRecognition_learned_object_0.png?raw=true\" width=400>\n",
        "\n",
        "「グーチョキパー」を覚えるため、まず忘れさせる必要があります。学習済みのデータを忘れさせるため、右上のボタンをクリックします。すると以下のように「Click Again Forget(忘れるにはもう一度押してください)」と表示されますので、右上のボタンをクリックします。これにより学習済みデータは消去されます。"
      ],
      "metadata": {
        "id": "t51z6jAB2sSo"
      }
    },
    {
      "cell_type": "markdown",
      "source": [
        "# 「グー、チョキ、パー」をおぼえさせる\n",
        "\n",
        "うまくAIカメラのモノ認識を上手に使うコツとして、まずは「グー、チョキ、パー」を出さずに背景だけを学習させます。また、「グー、チョキ、パー」が正確に認識されるには、背景の色と、手の色がなるべく違う方がうまくいきます。背景として、黒い色を配置するのがお勧めです。"
      ],
      "metadata": {
        "id": "gO4gJ8G2oVrg"
      }
    },
    {
      "cell_type": "markdown",
      "source": [
        "黒い背景だけを学習させましょう。黒い背景だけを写した状態で、右上のボタンを押し続けます。押している間は学習を続けます。しばらく押し続けたらボタンを離します。これで背景だけのモノを学習しました。最初の学習したモノはID1 と番号が振られます。\n",
        "\n",
        "ボタンを離すと、以下の画面が表示されます（Click again to continue! Clock other button to finish (学習を続けるにはクリック、終わる場合は他のボタンをクリック)）。\n",
        "\n",
        "<img src=\"https://github.com/TomoniCodeAcademy/LEGO-expoert-course/blob/main/img/pictures/HuskyLens_ObjectClassification_Multiple_Learning.png?raw=true\" width=400>\n",
        "\n",
        "\n",
        "これは、２つめのモノを学習するのか、これで学習を終わりにするのかを確認しています。2つめは「ぐー」を覚える必要がありますので、右上のボタンをクリックします。もし何もしないで放置すると、学習が完了します。（追加で覚えることができません）\n",
        "\n",
        "次にグーを覚えさせます。カメラにグーを出して右上のボタンを押します。押しながらいろんな位置でグーを映します。いろんな位置のグーを覚えさせるとより正確にグーを識別することができます。以下はグーの学習が終わった状態です。グーを出すと正しく識別してＩＤ２と表示されています。\n",
        "\n",
        "<img src=\"https://github.com/TomoniCodeAcademy/LEGO-expoert-course/blob/main/img/pictures/HuskyLens_ObjectClassification_Learned_rock.png?raw=true\" width=400>\n",
        "\n",
        "同様に、チョキ、パーを学習させます。学習させたモノとIDは以下となっています。\n",
        "\n",
        "- ID0  未分類\n",
        "- ID1  背景\n",
        "- ID2  グー   (Pythonでは、 \"guu\"と表現)\n",
        "- ID3  チョキ  (Pythonでは、 \"choki\"と表現)\n",
        "- ID4  パー  (Pythonでは、  \"paa\"と表現)"
      ],
      "metadata": {
        "id": "WPL_imfW-AFG"
      }
    }
  ]
}