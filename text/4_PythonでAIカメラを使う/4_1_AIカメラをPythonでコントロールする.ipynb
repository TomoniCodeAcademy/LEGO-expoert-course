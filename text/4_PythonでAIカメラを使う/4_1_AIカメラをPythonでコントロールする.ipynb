{
  "nbformat": 4,
  "nbformat_minor": 0,
  "metadata": {
    "colab": {
      "provenance": []
    },
    "kernelspec": {
      "name": "python3",
      "display_name": "Python 3"
    },
    "language_info": {
      "name": "python"
    }
  },
  "cells": [
    {
      "cell_type": "markdown",
      "source": [
        "# LEGOとAIカメラの接続\n",
        "下記の写真のように、LEGOとAIカメラを接続してください。LEGOのポートは [F] を使ってください。"
      ],
      "metadata": {
        "id": "VTurXzmYg8AR"
      }
    },
    {
      "cell_type": "markdown",
      "source": [
        "# PythonによるAIカメラの操作"
      ],
      "metadata": {
        "id": "9nbKZYXBk_7Q"
      }
    },
    {
      "cell_type": "markdown",
      "source": [
        "まずはPythonによりAIカメラの顔認識を行います。LEGO SPIKEから以下のプログラムを打ち込んでください。"
      ],
      "metadata": {
        "id": "iqp0nmzFhNq5"
      }
    },
    {
      "cell_type": "markdown",
      "source": [],
      "metadata": {
        "id": "dcpimBQpl303"
      }
    },
    {
      "cell_type": "code",
      "source": [
        "import sys\n",
        "import time\n",
        "from hub import port\n",
        "\n",
        "sys.path.append('/projects/mylib000')\n",
        "from huskylens_lib import Algo\n",
        "from huskylens_lib import HuskyLens\n",
        "\n",
        "port.F.mode(port.MODE_FULL_DUPLEX)\n",
        "time.sleep(1)\n",
        "port.F.baud(9600)\n",
        "\n",
        "husky = HuskyLens(port.F)"
      ],
      "metadata": {
        "id": "aC9OMj1HhM35"
      },
      "execution_count": null,
      "outputs": []
    },
    {
      "cell_type": "markdown",
      "source": [
        "上記プログラムはLEGO SPIKEに接続したAIカメラを使うための準備です。非常にややこしいのですが、今時点ではこういうものと思ってください。\n",
        "\n",
        "- from huskylens_lib import HuskyLensという行がありますが、これはHuskyLensを使うための関数を取り込む作業をしています。\n",
        "- port.F.mode(,...)という行は、LEGO SPIKE HUBの　FポートとAIカメラを接続するように指示しています。\n",
        "- husky = HuskyLens(port.F) では AIカメラ(HuskyLens）を使えるように準備しています。"
      ],
      "metadata": {
        "id": "CM0FnypdjbsU"
      }
    },
    {
      "cell_type": "markdown",
      "source": [
        "上記プログラムコードによりAIカメラを使う準備ができました。手でカメラを操作していた時は、ダイアルを動かして顔認識モードに切り替えをしていました。この作業はプログラムで行えます。以下のコードを最後の行に追加してください。"
      ],
      "metadata": {
        "id": "TiqmlOkZkZcl"
      }
    },
    {
      "cell_type": "code",
      "source": [
        "husky.send_CMD_REQ_ALGO(Algo.FACE_RECOGNITION)"
      ],
      "metadata": {
        "id": "y4qpo8cWkrd4"
      },
      "execution_count": null,
      "outputs": []
    },
    {
      "cell_type": "markdown",
      "source": [
        "上記関数を実行すると、AIカメラが顔認識モードに切り替わります。"
      ],
      "metadata": {
        "id": "bWo0ZnUMk2G3"
      }
    },
    {
      "cell_type": "markdown",
      "source": [
        "以上の作業によりAIカメラが顔認識モードで動作可能になりました。AIカメラとLEGOを組み合わせるには、AIカメラに対して、今誰かカメラに写っているか？問い合わせる必要があります。問い合わせるための関数も用意されています。"
      ],
      "metadata": {
        "id": "4iLqn0OnlbZZ"
      }
    },
    {
      "cell_type": "code",
      "source": [
        "husky.read_blocks()"
      ],
      "metadata": {
        "id": "S_ee2jrOlzf_"
      },
      "execution_count": null,
      "outputs": []
    },
    {
      "cell_type": "markdown",
      "source": [
        "上記関数を実行すると、カメラに学習ずみの顔が映っているかどうかを返却します。もし学習済みの顔が映っていると以下と返却します。"
      ],
      "metadata": {
        "id": "vafjxJAUmGkB"
      }
    },
    {
      "cell_type": "code",
      "source": [
        ">>> husky.read_blocks()\n",
        "[('block', 1, 164, 141, 109, 146)]"
      ],
      "metadata": {
        "id": "yjYdUitxm_UL"
      },
      "execution_count": null,
      "outputs": []
    },
    {
      "cell_type": "markdown",
      "source": [
        "もしだれの顔も映っていない場合は以下と返却します。空のリストを返却します。"
      ],
      "metadata": {
        "id": "iqQ_GpZWmXnp"
      }
    },
    {
      "cell_type": "code",
      "source": [
        ">>> husky.read_blocks()\n",
        "[]"
      ],
      "metadata": {
        "id": "HcwtZyvlnFeL"
      },
      "execution_count": null,
      "outputs": []
    },
    {
      "cell_type": "markdown",
      "source": [
        "もし顔が映っているが知らない人の場合、リストの中のリストの２番目の値が0となります。これはID:0であることを示しています。"
      ],
      "metadata": {
        "id": "ZvHVQv2qnTKi"
      }
    },
    {
      "cell_type": "code",
      "source": [
        "[('block', 0, 137, 140, 48, 82)]"
      ],
      "metadata": {
        "id": "j_swjJD8nRdq"
      },
      "execution_count": null,
      "outputs": []
    },
    {
      "cell_type": "markdown",
      "source": [
        "では、一度だけではなくて何度も繰り返し確認するプログラムに修正しましょう。プログラム全文は以下となります。"
      ],
      "metadata": {
        "id": "eXkfo58kn6YG"
      }
    },
    {
      "cell_type": "code",
      "source": [
        "import sys\n",
        "import time\n",
        "from hub import port\n",
        "\n",
        "sys.path.append('/projects/mylib000')\n",
        "from huskylens_lib import Algo\n",
        "from huskylens_lib import HuskyLens\n",
        "\n",
        "port.F.mode(port.MODE_FULL_DUPLEX)\n",
        "time.sleep(1)\n",
        "port.F.baud(9600)\n",
        "\n",
        "husky = HuskyLens(port.F)        # AIカメラ初期化\n",
        "husky.send_CMD_REQ_ALGO(Algo.FACE_RECOGNITION)  # 顔認識モードに設定\n",
        "\n",
        "while True:\n",
        "    print(husky.read_blocks())   # 認識状態を取得、表示"
      ],
      "metadata": {
        "id": "AvJ-JYlvoDx-"
      },
      "execution_count": null,
      "outputs": []
    },
    {
      "cell_type": "markdown",
      "source": [
        "上記プログラムを実行して画面に表示される文字列を確認してください。\n",
        "学習した人の顔を映した時、学習していない顔を映した時で表示が変わるのを確認してください"
      ],
      "metadata": {
        "id": "WSMrgQr5o9c-"
      }
    },
    {
      "cell_type": "markdown",
      "source": [
        "# 知っている顔を映したら音を流しましょう"
      ],
      "metadata": {
        "id": "8gLV24cz77cg"
      }
    },
    {
      "cell_type": "markdown",
      "source": [
        "覚えている人の顔がカメラに映ったら　関数 husky.read_blocks()　が返却するリストの中のIDが１　になります。if  文で、IDが　１かどうかを判断して、1 だったら音を鳴らします。  "
      ],
      "metadata": {
        "id": "gGQVM3yf-J_T"
      }
    }
  ]
}