{
  "cells": [
    {
      "cell_type": "markdown",
      "metadata": {
        "id": "VTurXzmYg8AR"
      },
      "source": [
        "# LEGOとAIカメラの接続\n",
        "前回説明した様にLEGOとAIカメラを接続してください。LEGOのポートは [F] を使ってください。カメラを固定した方が使いやすいので、カメラホルダ―を作りましょう。どのような形でも良いのですが、例えば以下のようなカメラホルダ―を作ります。\n",
        "\n",
        "<img src=\"https://github.com/TomoniCodeAcademy/LEGO-expoert-course/blob/main/img/pictures/HuskyLens_holder.png?raw=true\" width=200>"
      ]
    },
    {
      "cell_type": "markdown",
      "metadata": {
        "id": "9nbKZYXBk_7Q"
      },
      "source": [
        "# PythonによるAIカメラの操作"
      ]
    },
    {
      "cell_type": "markdown",
      "metadata": {
        "id": "iqp0nmzFhNq5"
      },
      "source": [
        "まずはPythonによりAIカメラの顔認識を行います。LEGO SPIKEから以下のプログラムを打ち込んでください。"
      ]
    },
    {
      "cell_type": "markdown",
      "metadata": {
        "id": "dcpimBQpl303"
      },
      "source": []
    },
    {
      "cell_type": "code",
      "execution_count": null,
      "metadata": {
        "id": "aC9OMj1HhM35"
      },
      "outputs": [],
      "source": [
        "import sys\n",
        "import time\n",
        "from hub import port\n",
        "\n",
        "sys.path.append('/projects/mylib000')\n",
        "from huskylens_lib import Algo\n",
        "from huskylens_lib import HuskyLens\n",
        "\n",
        "port.F.mode(port.MODE_FULL_DUPLEX)\n",
        "time.sleep(1)\n",
        "port.F.baud(9600)\n",
        "\n",
        "husky = HuskyLens(port.F)"
      ]
    },
    {
      "cell_type": "markdown",
      "metadata": {
        "id": "CM0FnypdjbsU"
      },
      "source": [
        "上記プログラムはLEGO SPIKEに接続したAIカメラを使うための準備です。非常にややこしいのですが、今時点ではこういうものと思ってください。\n",
        "\n",
        "- from huskylens_lib import HuskyLensという行がありますが、これはHuskyLensを使うための関数を取り込む作業をしています。\n",
        "- port.F.mode(,...)という行は、LEGO SPIKE HUBの　FポートとAIカメラを接続するように指示しています。\n",
        "- husky = HuskyLens(port.F) では AIカメラ(HuskyLens）を使えるように準備しています。"
      ]
    },
    {
      "cell_type": "markdown",
      "metadata": {
        "id": "TiqmlOkZkZcl"
      },
      "source": [
        "上記プログラムコードによりAIカメラを使う準備ができました。手でカメラを操作していた時は、ダイアルを動かして顔認識モードに切り替えをしていました。この作業はプログラムで行えます。以下のコードを最後の行に追加してください。"
      ]
    },
    {
      "cell_type": "code",
      "execution_count": null,
      "metadata": {
        "id": "y4qpo8cWkrd4"
      },
      "outputs": [],
      "source": [
        "husky.send_CMD_REQ_ALGO(Algo.FACE_RECOGNITION)"
      ]
    },
    {
      "cell_type": "markdown",
      "metadata": {
        "id": "bWo0ZnUMk2G3"
      },
      "source": [
        "上記関数を実行すると、AIカメラが顔認識モードに切り替わります。"
      ]
    },
    {
      "cell_type": "markdown",
      "metadata": {
        "id": "4iLqn0OnlbZZ"
      },
      "source": [
        "以上の作業によりAIカメラが顔認識モードで動作可能になりました。AIカメラとLEGOを組み合わせるには、AIカメラに対して、今誰かカメラに写っているか？問い合わせる必要があります。問い合わせるための関数も用意されています。"
      ]
    },
    {
      "cell_type": "code",
      "execution_count": null,
      "metadata": {
        "id": "S_ee2jrOlzf_"
      },
      "outputs": [],
      "source": [
        "husky.read_blocks()"
      ]
    },
    {
      "cell_type": "markdown",
      "metadata": {
        "id": "vafjxJAUmGkB"
      },
      "source": [
        "上記関数を実行すると、カメラに学習ずみの顔が映っているかどうかを返却します。もし学習済みの顔が映っていると以下と返却します。リストの中のリストの２番目の値が１となります。これはID:1（知っている人の顔）であることを示しています。"
      ]
    },
    {
      "cell_type": "code",
      "execution_count": null,
      "metadata": {
        "id": "yjYdUitxm_UL"
      },
      "outputs": [],
      "source": [
        ">>> husky.read_blocks()\n",
        "[('block', 1, 164, 141, 109, 146)]"
      ]
    },
    {
      "cell_type": "markdown",
      "metadata": {
        "id": "iqQ_GpZWmXnp"
      },
      "source": [
        "もしだれの顔も映っていない場合は以下と返却します。空のリストを返却します。"
      ]
    },
    {
      "cell_type": "code",
      "execution_count": null,
      "metadata": {
        "id": "HcwtZyvlnFeL"
      },
      "outputs": [],
      "source": [
        ">>> husky.read_blocks()\n",
        "[]"
      ]
    },
    {
      "cell_type": "markdown",
      "metadata": {
        "id": "ZvHVQv2qnTKi"
      },
      "source": [
        "もし顔が映っているが知らない人の場合、リストの中のリストの２番目の値が0となります。これはID:0であることを示しています。"
      ]
    },
    {
      "cell_type": "code",
      "execution_count": null,
      "metadata": {
        "id": "j_swjJD8nRdq"
      },
      "outputs": [],
      "source": [
        "[('block', 0, 137, 140, 48, 82)]"
      ]
    },
    {
      "cell_type": "markdown",
      "metadata": {},
      "source": [
        "AIカメラに顔を学習させていないので、誰の顔を写しても、ID:0と判断されます。AIカメラの準備が整ったので、顔を判断して自動的に開く扉を作りましょう。"
      ]
    }
  ],
  "metadata": {
    "colab": {
      "provenance": []
    },
    "kernelspec": {
      "display_name": "Python 3",
      "name": "python3"
    },
    "language_info": {
      "name": "python"
    }
  },
  "nbformat": 4,
  "nbformat_minor": 0
}
