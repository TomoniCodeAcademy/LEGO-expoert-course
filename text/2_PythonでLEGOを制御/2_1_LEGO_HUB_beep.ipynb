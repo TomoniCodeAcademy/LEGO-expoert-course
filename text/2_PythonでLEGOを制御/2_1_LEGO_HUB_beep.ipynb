{
  "nbformat": 4,
  "nbformat_minor": 0,
  "metadata": {
    "colab": {
      "provenance": [],
      "toc_visible": true
    },
    "kernelspec": {
      "name": "python3",
      "display_name": "Python 3"
    },
    "language_info": {
      "name": "python"
    }
  },
  "cells": [
    {
      "cell_type": "markdown",
      "source": [
        "# LEGO SPIKE HUBで音をならそう"
      ],
      "metadata": {
        "id": "Sk1UEjUddLf0"
      }
    },
    {
      "cell_type": "markdown",
      "source": [
        "# HUBで音を鳴らす"
      ],
      "metadata": {
        "id": "OXDYMH1BemKz"
      }
    },
    {
      "cell_type": "markdown",
      "source": [
        "HUBで音を鳴らすことができます。<br>\n",
        "まずHubを初期化した後、関数beepを使用して音を鳴らします。<br>\n",
        "下記の例では、ド・ミ・ソと鳴らすため、音の高さ(note)を60(ド)、64（ミ)、67(ソ)を指定しています。<br>\n",
        "短く鳴らしたいため、secoundsに0.2(秒)と指定しています。<br>長く鳴らす場合は1秒等を設定します。<br>\n",
        "file: play_sound_00.llsp"
      ],
      "metadata": {
        "id": "fWC1Es9zdVOT"
      }
    },
    {
      "cell_type": "code",
      "source": [
        "from spike import PrimeHub\n",
        "\n",
        "hub = PrimeHub()           # HUBの初期化\n",
        "\n",
        "hub.speaker.beep(note=60, seconds=0.2)\n",
        "hub.speaker.beep(note=64, seconds=0.2)\n",
        "hub.speaker.beep(note=67, seconds=0.5)"
      ],
      "metadata": {
        "id": "hK2sn6N1UeuN"
      },
      "execution_count": null,
      "outputs": []
    },
    {
      "cell_type": "markdown",
      "source": [
        "上記プログラムはブロックプログラミングだと以下と同じです。\n",
        "\n",
        "<img src=\"https://github.com/TomoniCodeAcademy/LEGO-expoert-course/blob/main/img/document_parts/LEGO_HUB_speeker_beep.png?raw=true\" width=300>"
      ],
      "metadata": {
        "id": "tO9wj_ivaH7i"
      }
    },
    {
      "cell_type": "markdown",
      "source": [
        "**練習：**\n",
        "\n",
        "プログラムを変更して好きな音を鳴らしてみてください"
      ],
      "metadata": {
        "id": "kSlUrPxlnocD"
      }
    },
    {
      "cell_type": "markdown",
      "source": [
        "# パソコン側で音を鳴らす（効果音）"
      ],
      "metadata": {
        "id": "EGgiCVjHNG_J"
      }
    },
    {
      "cell_type": "markdown",
      "source": [
        "パソコン側で音を鳴らすこともできます<br>\n",
        "Appを初期化した後、関数play_soundを使うことで効果音を鳴らすことができます。<br>\n",
        "file: LED_matrix_1.llsp"
      ],
      "metadata": {
        "id": "aVX1iQTBe8-l"
      }
    },
    {
      "cell_type": "code",
      "source": [
        "from spike import App\n",
        "\n",
        "app = App()\n",
        "app.play_sound('Win')"
      ],
      "metadata": {
        "id": "XXOnQSU-gd_-"
      },
      "execution_count": null,
      "outputs": []
    },
    {
      "cell_type": "markdown",
      "source": [
        "ブロックプログラミングだと以下となります。\n",
        "\n",
        "<img src=\"https://github.com/TomoniCodeAcademy/LEGO-expoert-course/blob/main/img/document_parts/LEGO_play_sound.png?raw=true\" width=350>"
      ],
      "metadata": {
        "id": "bODDDROcapJp"
      }
    },
    {
      "cell_type": "markdown",
      "source": [
        "Win以外に以下の効果音を鳴らすことができます\n",
        "\n",
        "Alert, Applause 1, Applause 2, Applause 3, Baa, Bang 1, Bang 2, Basketball Bounce, Big Boing, Bird, Bite, Boat Horn 1, Boat Horn 2, Bonk, Boom Cloud, Boop Bing Bop, Bowling Strike, Burp 1, Burp 2, Burp 3, Car Accelerate 1, Car Accelerating 2, Car Horn, Car Idle, Car Reverse, Car Skid 1, Car Skid 2, Car Vroom, Cat Angry, Cat Happy, Cat Hiss, Cat Meow 1, Cat Meow 2, Cat Meow 3, Cat Purring, Cat Whining, Chatter, Chirp, Clang, Clock Ticking, Clown Honk 1, Clown Honk 2, Clown Honk 3, Coin, Collect, Connect, Crank, Crazy Laugh, Croak, Crowd Gasp, Crunch, Cuckoo, Cymbal Crash, Disconnect, Dog Bark 1, Dog Bark 2, Dog Bark 3, Dog Whining 1, Dog Whining 2, Doorbell 1, Doorbell 2, Doorbell 3, Door Closing, Door Creek 1, Door Creek 2, Door Handle, Door Knock, Door Slam 1, Door Slam 2, Drum Roll, Dun Dun Dunnn, Emotional Piano, Fart 1, Fart 2, Fart 3, Footsteps, Gallop, Glass Breaking, Glug, Goal Cheer, Gong, Growl, Grunt, Hammer Hit, Head Shake, High Whoosh, Jump, Jungle Frogs, Laser 1, Laser 2, Laser 3, Laughing Baby 1, Laughing Baby 2, Laughing Boy, Laughing Crowd 1, Laughing Crowd 2, Laughing Girl, Laughing Male, Lose, Low Boing, Low Squeak, Low Whoosh, Magic Spell, Male Jump 1, Male Jump 2, Moo, Ocean Wave, Oops, Orchestra Tuning, Party Blower, Pew, Ping Pong Hit, Plane Flying By, Plane Motor Running, Plane Starting, Pluck, Police Siren 1, Police Siren 2, Police Siren 3, Punch, Rain, Ricochet, Rimshot, Ring Tone, Rip, Robot 1, Robot 2, Robot 3, Rocket Explosion Rumble, Rooster, Scrambling Feet, Screech, Seagulls, Service Announcement, Sewing Machine, Ship Bell, Siren Whistle, Skid, Slide Whistle 1, Slide Whistle 2, Sneaker Squeak, Snoring, Snort, Space Ambience, Space Flyby, Space Noise, Splash, Sport Whistle 1, Sport Whistle 2, Squeaky Toy, Squish Pop, Suction Cup, Tada, Telephone Ring 2, Telephone Ring, Teleport 2, Teleport 3, Teleport, Tennis Hit, Thunder Storm, Toliet Flush, Toy Honk, Toy Zing, Traffic, Train Breaks, Train Horn 1, Train Horn 2, Train Horn 3, Train On Tracks, Train Signal 1, Train Signal 2, Train Start, Train Whistle, Triumph, Tropical Birds, Wand, Water Drop, Whistle Thump, Whiz 1, Whiz 2, Window Breaks, Win, Wobble, Wood Tap, Zip"
      ],
      "metadata": {
        "id": "1qagawE9XJ5O"
      }
    },
    {
      "cell_type": "markdown",
      "source": [
        "下記のプログラムは再生できる全ての効果音を鳴らすプログラムです。リストに入った効果音の名前('Jump' 等)をひとつずつ取り出しながら繰り返し実行しています"
      ],
      "metadata": {
        "id": "7wbw-Vvbm_mz"
      }
    },
    {
      "cell_type": "code",
      "source": [
        "from spike import App\n",
        "\n",
        "SOUND_LIST=('Alert', 'Applause 1', 'Applause 2', 'Applause 3', 'Baa', 'Bang 1', 'Bang 2', 'Basketball Bounce',\n",
        "            'Big Boing', 'Bird', 'Bite', 'Boat Horn 1', 'Boat Horn 2', 'Bonk', 'Boom Cloud', 'Boop Bing Bop',\n",
        "            'Bowling Strike', 'Burp 1', 'Burp 2', 'Burp 3', 'Car Accelerate 1', 'Car Accelerating 2', 'Car Horn',\n",
        "            'Car Idle', 'Car Reverse', 'Car Skid 1', 'Car Skid 2', 'Car Vroom', 'Cat Angry', 'Cat Happy',\n",
        "            'Cat Hiss', 'Cat Meow 1', 'Cat Meow 2', 'Cat Meow 3', 'Cat Purring', 'Cat Whining', 'Chatter',\n",
        "            'Chirp', 'Clang', 'Clock Ticking', 'Clown Honk 1', 'Clown Honk 2', 'Clown Honk 3', 'Coin', 'Collect',\n",
        "            'Connect', 'Crank', 'Crazy Laugh', 'Croak', 'Crowd Gasp', 'Crunch', 'Cuckoo', 'Cymbal Crash',\n",
        "            'Disconnect', 'Dog Bark 1', 'Dog Bark 2', 'Dog Bark 3', 'Dog Whining 1', 'Dog Whining 2', 'Doorbell 1',\n",
        "            'Doorbell 2', 'Doorbell 3', 'Door Closing', 'Door Creek 1', 'Door Creek 2', 'Door Handle', 'Door Knock',\n",
        "            'Door Slam 1', 'Door Slam 2', 'Drum Roll', 'Dun Dun Dunnn', 'Emotional Piano', 'Fart 1', 'Fart 2',\n",
        "            'Fart 3', 'Footsteps', 'Gallop', 'Glass Breaking', 'Glug', 'Goal Cheer', 'Gong', 'Growl', 'Grunt',\n",
        "            'Hammer Hit', 'Head Shake', 'High Whoosh', 'Jump', 'Jungle Frogs', 'Laser 1', 'Laser 2', 'Laser 3',\n",
        "            'Laughing Baby 1', 'Laughing Baby 2', 'Laughing Boy', 'Laughing Crowd 1', 'Laughing Crowd 2',\n",
        "            'Laughing Girl', 'Laughing Male', 'Lose', 'Low Boing', 'Low Squeak', 'Low Whoosh', 'Magic Spell',\n",
        "            'Male Jump 1', 'Male Jump 2', 'Moo', 'Ocean Wave', 'Oops', 'Orchestra Tuning', 'Party Blower', 'Pew',\n",
        "            'Ping Pong Hit', 'Plane Flying By', 'Plane Motor Running', 'Plane Starting', 'Pluck', 'Police Siren 1',\n",
        "            'Police Siren 2', 'Police Siren 3', 'Punch', 'Rain', 'Ricochet', 'Rimshot', 'Ring Tone', 'Rip', 'Robot 1',\n",
        "            'Robot 2', 'Robot 3', 'Rocket Explosion Rumble', 'Rooster', 'Scrambling Feet', 'Screech', 'Seagulls',\n",
        "            'Service Announcement', 'Sewing Machine', 'Ship Bell', 'Siren Whistle', 'Skid', 'Slide Whistle 1',\n",
        "            'Slide Whistle 2', 'Sneaker Squeak', 'Snoring', 'Snort', 'Space Ambience', 'Space Flyby', 'Space Noise',\n",
        "            'Splash', 'Sport Whistle 1', 'Sport Whistle 2', 'Squeaky Toy', 'Squish Pop', 'Suction Cup', 'Tada',\n",
        "            'Telephone Ring 2', 'Telephone Ring', 'Teleport 2', 'Teleport 3', 'Teleport', 'Tennis Hit', 'Thunder Storm',\n",
        "            'Toliet Flush', 'Toy Honk', 'Toy Zing', 'Traffic', 'Train Breaks', 'Train Horn 1', 'Train Horn 2', 'Train Horn 3',\n",
        "            'Train On Tracks', 'Train Signal 1', 'Train Signal 2', 'Train Start', 'Train Whistle', 'Triumph',\n",
        "            'Tropical Birds', 'Wand', 'Water Drop', 'Whistle Thump', 'Whiz 1', 'Whiz 2', 'Window Breaks', 'Win',\n",
        "            'Wobble', 'Wood Tap', 'Zip')\n",
        "\n",
        "app = App()\n",
        "for sound_name in SOUND_LIST:\n",
        "    print(sound_name)\n",
        "    app.play_sound(sound_name)\n"
      ],
      "metadata": {
        "id": "ihFffTuulqui"
      },
      "execution_count": null,
      "outputs": []
    }
  ]
}