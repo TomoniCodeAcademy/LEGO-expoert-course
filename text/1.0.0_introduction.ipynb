# welcome to LEGO Expert Course
