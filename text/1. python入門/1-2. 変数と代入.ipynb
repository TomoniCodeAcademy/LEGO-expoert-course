{
  "nbformat": 4,
  "nbformat_minor": 0,
  "metadata": {
    "colab": {
      "provenance": [],
      "toc_visible": true
    },
    "kernelspec": {
      "name": "python3",
      "display_name": "Python 3"
    },
    "language_info": {
      "name": "python"
    }
  },
  "cells": [
    {
      "cell_type": "markdown",
      "source": [
        "# Pythonの変数\n",
        "\n",
        "LEGOブロックプログラミングでは、値を保持するために変数を使っていました。ブロックプログラミングでは変数を使う際にまず変数を作る必要がありました。<br>\n",
        "<img src=\"https://github.com/TomoniCodeAcademy/LEGO-expoert-course/blob/main/img/document_parts/variables.png?raw=true\" width=150>\n",
        "\n",
        "Pythonも変数を使うことができます。Pythonで変数を使うには、使いたい変数名を決めて何か値を代入します(変数の初期化と言います)。以下に変数　my_nameを使う例を示します。"
      ],
      "metadata": {
        "id": "Udve9pnnNGjt"
      }
    },
    {
      "cell_type": "code",
      "source": [
        "my_name = 'ToMo-Ni Taro'     # 変数を初期化する"
      ],
      "metadata": {
        "id": "pf2vVoLkNfQ0"
      },
      "execution_count": null,
      "outputs": []
    },
    {
      "cell_type": "markdown",
      "source": [
        "一度変数を作ると、print関数で変数名を使って出力することができます。以下は変数名 my_nameを出力する例です"
      ],
      "metadata": {
        "id": "MMquY9MjNr4g"
      }
    },
    {
      "cell_type": "code",
      "source": [
        "your_name = 'ToMo-Ni Hanako'\n",
        "print(your_name)"
      ],
      "metadata": {
        "id": "R0NQ71dZN_vl"
      },
      "execution_count": null,
      "outputs": []
    },
    {
      "cell_type": "markdown",
      "source": [
        "変数の値を使って計算することができます。以下の例は変数の値を使って面積を計算する例です"
      ],
      "metadata": {
        "id": "eClhc-I1OWOG"
      }
    },
    {
      "cell_type": "code",
      "source": [
        "tate = 20   #  たて　が　　20cm\n",
        "yoko = 30   # 　横が  30cm\n",
        "\n",
        "# 面積を計算する\n",
        "area = tate * yoko   #  take * yoko で 面積を計算、計算した結果をareaに設定\n",
        "\n",
        "# 面積を出力\n",
        "print(area)    #"
      ],
      "metadata": {
        "id": "9JhMvHMFOusN"
      },
      "execution_count": null,
      "outputs": []
    },
    {
      "cell_type": "markdown",
      "source": [
        "変数は条件文やループ文で活躍します"
      ],
      "metadata": {
        "id": "XyqPP9gZQXCA"
      }
    }
  ]
}