{
 "cells": [
  {
   "cell_type": "markdown",
   "metadata": {
    "id": "0pyDxXDRlIqD"
   },
   "source": []
  },
  {
   "cell_type": "markdown",
   "metadata": {
    "id": "4NBgxYmSlKyr"
   },
   "source": [
    "# 最初のプログラム\n",
    "Pythonを使って最初のプログラムをしましょう。一番短いプログラムはprint文を使ったプログラムです（多分）。"
   ]
  },
  {
   "cell_type": "code",
   "execution_count": null,
   "metadata": {
    "colab": {
     "base_uri": "https://localhost:8080/"
    },
    "executionInfo": {
     "elapsed": 19,
     "status": "ok",
     "timestamp": 1743129186556,
     "user": {
      "displayName": "FUMIO SUMI",
      "userId": "00998991966512437215"
     },
     "user_tz": -540
    },
    "id": "VfSWncgblGoT",
    "outputId": "e5a75214-ec60-4973-ff6d-2d30cce86a0c"
   },
   "outputs": [],
   "source": [
    "print('Hello')"
   ]
  },
  {
   "cell_type": "markdown",
   "metadata": {
    "id": "W0JmyqL_lc8k"
   },
   "source": [
    "上のプログラムを実行するには、まず画面左側のカッコの位置にマウスを持っていってください。△のマークが出ます。△マークをクリックしてください。Pythonが実行され、Helloと返事が返ってきます。"
   ]
  },
  {
   "cell_type": "markdown",
   "metadata": {
    "id": "HI4MkrAsnGGN"
   },
   "source": [
    "プログラムを作っていると、うまく動かないことがしょっちゅう出てきます。そんな時はprint文を使ってどこに問題があるかを探します。LEGOを使ったプログラムでなかなか思ったように動かない時は、print文を使って調べましょう。"
   ]
  },
  {
   "cell_type": "markdown",
   "metadata": {
    "id": "JerMddJuml3H"
   },
   "source": [
    "演習：みなさんの名前をprint文で出力しましょう。プログラムの'あなたの名前'の部分の皆さんの名前に変更してください。そして実行してみましょう"
   ]
  },
  {
   "cell_type": "code",
   "execution_count": null,
   "metadata": {
    "id": "KXUWAGaslBUq"
   },
   "outputs": [],
   "source": [
    "print('あなたの名前')"
   ]
  },
  {
   "cell_type": "markdown",
   "metadata": {
    "id": "AtM7KSV4o7Oq"
   },
   "source": [
    "# コメント\n",
    "プログラムを書く時、書いたプログラムがわかりやすいようにメモを書いておきます。プログラム内に書いたメモをコメントと言います。メモを書く理由は、後からプログラムを読んだときに思い出せるようにするためです。また、他人にプログラムを読んでもらう時に、分かりやすくするためです。\n"
   ]
  },
  {
   "cell_type": "markdown",
   "metadata": {
    "id": "FkTciLh9pUm5"
   },
   "source": [
    "Pythonのコメントは # で始めます。以下がコメントの例です。コメントにすると無視され実行されません。"
   ]
  },
  {
   "cell_type": "code",
   "execution_count": null,
   "metadata": {
    "colab": {
     "base_uri": "https://localhost:8080/"
    },
    "executionInfo": {
     "elapsed": 17,
     "status": "ok",
     "timestamp": 1743130231198,
     "user": {
      "displayName": "FUMIO SUMI",
      "userId": "00998991966512437215"
     },
     "user_tz": -540
    },
    "id": "3nX54JlEpq_p",
    "outputId": "0a5d2adc-a4cf-4f77-9135-225ed4a3696b"
   },
   "outputs": [],
   "source": [
    "# print文の演習です。あなたの名前を入れてください\n",
    "# print('トモーニ太郎')\n",
    "print('あなたの名前')"
   ]
  },
  {
   "cell_type": "markdown",
   "metadata": {
    "id": "srUydqaJu8zO"
   },
   "source": [
    "演習：実際にコメントを書いてみましょう"
   ]
  },
  {
   "cell_type": "code",
   "execution_count": null,
   "metadata": {
    "id": "eYyBNIayu4B3"
   },
   "outputs": [],
   "source": [
    "# コメントを書いてみてください"
   ]
  },
  {
   "cell_type": "markdown",
   "metadata": {
    "id": "ekqtWIabnq4o"
   },
   "source": [
    "# Pyhonによる計算\n",
    "pythonはプログラミング言語なので、足し算や引き算、割り算ができます。足し算、引き算は以下です。実際に実行して計算してみましょう"
   ]
  },
  {
   "cell_type": "code",
   "execution_count": null,
   "metadata": {
    "colab": {
     "base_uri": "https://localhost:8080/"
    },
    "executionInfo": {
     "elapsed": 12,
     "status": "ok",
     "timestamp": 1743129732333,
     "user": {
      "displayName": "FUMIO SUMI",
      "userId": "00998991966512437215"
     },
     "user_tz": -540
    },
    "id": "1Hk5dumZn-kQ",
    "outputId": "721db999-8876-4e5e-ce47-01b909c90a15"
   },
   "outputs": [],
   "source": [
    "1 + 2"
   ]
  },
  {
   "cell_type": "code",
   "execution_count": null,
   "metadata": {
    "colab": {
     "base_uri": "https://localhost:8080/"
    },
    "executionInfo": {
     "elapsed": 14,
     "status": "ok",
     "timestamp": 1743129734019,
     "user": {
      "displayName": "FUMIO SUMI",
      "userId": "00998991966512437215"
     },
     "user_tz": -540
    },
    "id": "ieIsLaH5oJge",
    "outputId": "6f4cad98-d221-4c4f-c48b-4117135ea59b"
   },
   "outputs": [],
   "source": [
    "99999 + 1"
   ]
  },
  {
   "cell_type": "code",
   "execution_count": null,
   "metadata": {
    "colab": {
     "base_uri": "https://localhost:8080/"
    },
    "executionInfo": {
     "elapsed": 9,
     "status": "ok",
     "timestamp": 1743129735862,
     "user": {
      "displayName": "FUMIO SUMI",
      "userId": "00998991966512437215"
     },
     "user_tz": -540
    },
    "id": "QQJFX4TLoMgf",
    "outputId": "7a8c3b26-7be7-4657-d123-fcdf6fb2e2b4"
   },
   "outputs": [],
   "source": [
    "0.1 + 0.001"
   ]
  },
  {
   "cell_type": "code",
   "execution_count": null,
   "metadata": {
    "colab": {
     "base_uri": "https://localhost:8080/"
    },
    "executionInfo": {
     "elapsed": 8,
     "status": "ok",
     "timestamp": 1743129763075,
     "user": {
      "displayName": "FUMIO SUMI",
      "userId": "00998991966512437215"
     },
     "user_tz": -540
    },
    "id": "CvxM2XhxoR-W",
    "outputId": "1dc47856-1fe1-4671-c317-eb91ce3904f4"
   },
   "outputs": [],
   "source": [
    "10000 - 1"
   ]
  },
  {
   "cell_type": "markdown",
   "metadata": {
    "id": "4O4xSAIFoYDP"
   },
   "source": [
    "掛け算、割り算もできます。"
   ]
  },
  {
   "cell_type": "code",
   "execution_count": null,
   "metadata": {
    "id": "SebRC2kIrAcC"
   },
   "outputs": [],
   "source": [
    "1.23 * 4    #  掛け算の例"
   ]
  },
  {
   "cell_type": "code",
   "execution_count": null,
   "metadata": {
    "colab": {
     "base_uri": "https://localhost:8080/"
    },
    "executionInfo": {
     "elapsed": 13,
     "status": "ok",
     "timestamp": 1743130527049,
     "user": {
      "displayName": "FUMIO SUMI",
      "userId": "00998991966512437215"
     },
     "user_tz": -540
    },
    "id": "cRDvusq0rDLi",
    "outputId": "929920f9-040d-461f-c1f0-c3b1dae5ddfc"
   },
   "outputs": [],
   "source": [
    "10 / 3    # 　割り算の例　10を3で割ると。。"
   ]
  },
  {
   "cell_type": "markdown",
   "metadata": {
    "id": "5g_k2p8DodKR"
   },
   "source": [
    "０で割るとエラーになるので注意してください。"
   ]
  },
  {
   "cell_type": "code",
   "execution_count": null,
   "metadata": {
    "id": "CUa-4gM9oo1n"
   },
   "outputs": [],
   "source": [
    "1/0    #  0による割り算の例、エラーになります。絶対に実行しないでください :-)"
   ]
  },
  {
   "cell_type": "markdown",
   "metadata": {
    "id": "dyUuh0yRqzAC"
   },
   "source": [
    "なぜ０で割るといけないのかは考えてみてください。Geminiに聞いてたら教えてくれるかもしれません。画面右上の★マークがGeminiです。分からない時はいろいろ教えてくれます。"
   ]
  },
  {
   "cell_type": "markdown",
   "metadata": {
    "id": "wj00WHe5rqDb"
   },
   "source": [
    "演習として、何か計算させてみましょう。以下は例なので書き換えて実行してください"
   ]
  },
  {
   "cell_type": "code",
   "execution_count": null,
   "metadata": {
    "id": "BaIvHVunrpHr"
   },
   "outputs": [],
   "source": [
    "1 - 3 * 4 / 5 + 7 / 8 * 9 - 10"
   ]
  },
  {
   "cell_type": "markdown",
   "metadata": {
    "id": "BTevSeccr7U9"
   },
   "source": [
    "### 演算と優先度\n",
    "計算のことを演算と呼びます。演算する際の注意点として、演算の優先度に注意してください。例えば、10 + 5 / 3  と入力すると、どう計算されると思いますか？　実際に実行して確かめてください"
   ]
  },
  {
   "cell_type": "code",
   "execution_count": null,
   "metadata": {
    "colab": {
     "base_uri": "https://localhost:8080/"
    },
    "executionInfo": {
     "elapsed": 6,
     "status": "ok",
     "timestamp": 1743131191541,
     "user": {
      "displayName": "FUMIO SUMI",
      "userId": "00998991966512437215"
     },
     "user_tz": -540
    },
    "id": "hgBAG2VCtaMm",
    "outputId": "7d612836-a1b0-4e72-cee4-12c69fff58ff"
   },
   "outputs": [],
   "source": [
    "10 + 5 / 3"
   ]
  },
  {
   "cell_type": "markdown",
   "metadata": {
    "id": "sxCr4f31tgmY"
   },
   "source": [
    "答えが５になると思いましたか？　答えが5にならないのは、足し算よりも割り算の方が優先度が高いせいです。　割り算の 5 / 3 が先に計算されてしまいます。"
   ]
  },
  {
   "cell_type": "markdown",
   "metadata": {
    "id": "DqYE8Fx4tBWV"
   },
   "source": [
    "もし 10 + 5 を先に計算したい場合は、カッコで囲ってください。 ( 10 + 5 ) / 3  と書きます。そうすると、先に　10 + 5 が計算され、次に３による割り算が行われます。下にカッコで囲った例を示します。実行してみてください。"
   ]
  },
  {
   "cell_type": "code",
   "execution_count": null,
   "metadata": {
    "colab": {
     "base_uri": "https://localhost:8080/"
    },
    "executionInfo": {
     "elapsed": 9,
     "status": "ok",
     "timestamp": 1743131341374,
     "user": {
      "displayName": "FUMIO SUMI",
      "userId": "00998991966512437215"
     },
     "user_tz": -540
    },
    "id": "8O6OKfkZuIDf",
    "outputId": "e41e5f60-b36a-4267-e9d6-b041cea59b8e"
   },
   "outputs": [],
   "source": [
    "(10 + 5) / 3"
   ]
  },
  {
   "cell_type": "markdown",
   "metadata": {
    "id": "bpau4eD8suT0"
   },
   "source": [
    "演習：　2000円のプレゼントと、3000円のプレゼントを買って、3人で支払を分担するプログラムを書いてみよう。以下は思った動きにならない間違ったコードです。カッコを使って正しい結果になるように書き換えてください。"
   ]
  },
  {
   "cell_type": "code",
   "execution_count": null,
   "metadata": {
    "id": "-tpMv3rPrk2b"
   },
   "outputs": [],
   "source": [
    "2000 + 3000 / 3"
   ]
  }
 ],
 "metadata": {
  "colab": {
   "authorship_tag": "ABX9TyOd7cMSTpn/XxP9AXVekWKI",
   "provenance": [],
   "toc_visible": true
  },
  "kernelspec": {
   "display_name": "Python 3",
   "name": "python3"
  },
  "language_info": {
   "name": "python"
  }
 },
 "nbformat": 4,
 "nbformat_minor": 0
}
