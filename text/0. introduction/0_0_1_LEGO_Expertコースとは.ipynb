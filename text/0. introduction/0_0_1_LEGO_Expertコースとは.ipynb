{
  "cells": [
    {
      "cell_type": "markdown",
      "metadata": {
        "id": "UIGoF075E0fB"
      },
      "source": [
        "# LEGO Expertコースについて\n",
        "\n",
        "* LEGO,AIカメラを使ってAIを活用したアプリケーションを作ります\n",
        "* プログラミング言語はPythonを使います\n",
        "* 試作を通して、Pythonによるプログラミング、AIとは何かを学ぶことができます\n",
        "* AIとは何か、何ができて、何ができないか、どのように活用したらよいのか？　どのように使うのかを学びましょう\n",
        "  * AIの基本(データの準備、学習、試験運用、問題点抽出、改善)\n",
        "\n",
        "\n",
        "### あいことば\n",
        "\n",
        "* 手を動かしていろんなことを試そう。画面の中ではなく、目の前で実際に動く物を作ろう。友達と一緒にワクワクを体験しよう"
      ]
    },
    {
      "cell_type": "markdown",
      "metadata": {
        "id": "qwSNlaGjcpcp"
      },
      "source": [
        "# LEGO Expertコースで使うツールについて\n",
        "\n",
        "LEGO Expertコースでは以下のツールを使います\n",
        "- Google colab\n",
        "  -  LEGO ExpertコースのテキストはGoogle colabで作られています\n",
        "  -  Pythonを動かして確認することができます\n",
        "- LEGO と LEGO SPIKE IDE (LEGO SPIKE 開発ツール)\n",
        "  - これまで皆さんが使ってこられたLEGO SPIKEのプログラミングツールです。LEGO ExpertコースではPython を使います\n",
        "- AIカメラ\n",
        "  - LEGO ExpertコースではAIカメラを使います。AIカメラ単体で画像認識ができます(AIカメラに学習させることで、色を判別したり、顔を識別できます)\n"
      ]
    },
    {
      "cell_type": "markdown",
      "metadata": {},
      "source": [
        "# LEGO Expertコースの補助教材\n",
        "インターネット上にはPythonを勉強するための教材がいろいろ公開されています。以下の教材も参考に使います\n",
        "\n",
        "1. ハイスクール Python https://high-school-python.jp/\n",
        "1. 東京大学 Python講座\n",
        "\n",
        "Python公式ドキュメント\n",
        "https://docs.python.org/ja/3/"
      ]
    }
  ],
  "metadata": {
    "colab": {
      "provenance": [],
      "toc_visible": true
    },
    "kernelspec": {
      "display_name": "Python 3",
      "name": "python3"
    },
    "language_info": {
      "name": "python"
    }
  },
  "nbformat": 4,
  "nbformat_minor": 0
}
